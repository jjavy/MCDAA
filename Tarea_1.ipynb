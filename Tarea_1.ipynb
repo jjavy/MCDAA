{
  "nbformat": 4,
  "nbformat_minor": 0,
  "metadata": {
    "colab": {
      "provenance": [],
      "authorship_tag": "ABX9TyNHFU67huQYMn7eE05n3kwc",
      "include_colab_link": true
    },
    "kernelspec": {
      "name": "python3",
      "display_name": "Python 3"
    },
    "language_info": {
      "name": "python"
    }
  },
  "cells": [
    {
      "cell_type": "markdown",
      "metadata": {
        "id": "view-in-github",
        "colab_type": "text"
      },
      "source": [
        "<a href=\"https://colab.research.google.com/github/jjavy/MCDAA/blob/main/Tarea_1.ipynb\" target=\"_parent\"><img src=\"https://colab.research.google.com/assets/colab-badge.svg\" alt=\"Open In Colab\"/></a>"
      ]
    },
    {
      "cell_type": "markdown",
      "source": [
        "# Tarea 1 - Código en Colab\n",
        "\n",
        "Para la tarea 1, se solicitó crear un notebook en `Colab` con un código cualquiera de ejemplo en Python.\n",
        "\n",
        "A continuación se muestra un pequeño código que genera datos aleatorios y los gráfica."
      ],
      "metadata": {
        "id": "9SzHAo8cMfot"
      }
    },
    {
      "cell_type": "code",
      "execution_count": 1,
      "metadata": {
        "id": "izyuUcT_MZMo"
      },
      "outputs": [],
      "source": [
        "import numpy as np\n",
        "import matplotlib.pyplot as plt"
      ]
    },
    {
      "cell_type": "code",
      "source": [
        "# Simular datos con ruido\n",
        "np.random.seed(42)\n",
        "x = np.linspace(0, 10, 50)\n",
        "y = 2 * x + 1 + np.random.normal(0, 2, size=x.shape)"
      ],
      "metadata": {
        "id": "x_Lh3vccN3MZ"
      },
      "execution_count": 2,
      "outputs": []
    },
    {
      "cell_type": "code",
      "source": [
        "# Graficar los datps\n",
        "plt.scatter(x, y, label=\"Datos observados\")\n",
        "plt.xlabel(\"x\")\n",
        "plt.ylabel(\"y\")\n",
        "plt.legend()\n",
        "plt.show()"
      ],
      "metadata": {
        "id": "hcj_LZqPOA3K"
      },
      "execution_count": null,
      "outputs": []
    }
  ]
}